{
 "cells": [
  {
   "cell_type": "code",
   "execution_count": 15,
   "metadata": {
    "collapsed": false
   },
   "outputs": [
    {
     "name": "stdout",
     "output_type": "stream",
     "text": [
      "240 240\n"
     ]
    }
   ],
   "source": [
    "import pandas as pd\n",
    "import random\n",
    "#RECREATING exp_dict\n",
    "\n",
    "df = pd.DataFrame.from_csv('C:/Users/luca.chech.16/Desktop/jupyter exp/randomization.csv')\n",
    "df.reset_index(drop=False,) #inplace = 'True')\n",
    "image_names = df.index.tolist()\n",
    "load = df['Load'].tolist()\n",
    "question = df['question'].tolist()\n",
    "trial_type = df['present_absent'].tolist()\n",
    "critical = df['trial_type'].tolist()\n",
    "my_dict ={z[0]:list(z[1:]) for z in zip(image_names,ts,load,question,trial_type,critical)}\n",
    "\n",
    "names_low = []\n",
    "names_high = []\n",
    "for each in my_dict:\n",
    "    if 'low' in my_dict[each]:\n",
    "        #print each, my_dict[each]\n",
    "        names_low.append(each)\n",
    "    elif 'high' in my_dict[each]:\n",
    "        #print each, my_dict[each]\n",
    "        names_high.append(each)\n",
    "print len(names_low), len(names_high)\n"
   ]
  }
 ],
 "metadata": {
  "anaconda-cloud": {},
  "kernelspec": {
   "display_name": "Python [default]",
   "language": "python",
   "name": "python2"
  },
  "language_info": {
   "codemirror_mode": {
    "name": "ipython",
    "version": 2
   },
   "file_extension": ".py",
   "mimetype": "text/x-python",
   "name": "python",
   "nbconvert_exporter": "python",
   "pygments_lexer": "ipython2",
   "version": "2.7.12"
  }
 },
 "nbformat": 4,
 "nbformat_minor": 1
}
