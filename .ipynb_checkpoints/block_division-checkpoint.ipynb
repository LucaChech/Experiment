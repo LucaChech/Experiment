{
 "cells": [
  {
   "cell_type": "code",
   "execution_count": 26,
   "metadata": {
    "collapsed": false
   },
   "outputs": [
    {
     "name": "stdout",
     "output_type": "stream",
     "text": [
      "120 120\n",
      "120 120\n",
      "['2010_000109.jpg', '2010_000132.jpg', '2008_006470.jpg', '2011_001779.jpg', '2008_005443.jpg', '2009_001902.jpg', '2008_004412.jpg', '2010_003101.jpg', '2008_003203.jpg']\n",
      "['2008_007043.jpg', '2008_000860.jpg', '2008_006912.jpg', '2008_002153.jpg', '2010_005718.jpg', '2009_003795.jpg', '2010_002775.jpg', '2008_007388.jpg', '2008_001210.jpg']\n"
     ]
    }
   ],
   "source": [
    "import pandas as pd\n",
    "import random\n",
    "#RECREATING exp_dict\n",
    "\n",
    "df = pd.DataFrame.from_csv('C:/Users/luca.chech.16/Desktop/jupyter exp/randomization.csv')\n",
    "df.reset_index(drop=False,) #inplace = 'True')\n",
    "image_names = df.index.tolist()\n",
    "load = df['Load'].tolist()\n",
    "question = df['question'].tolist()\n",
    "trial_type = df['present_absent'].tolist()\n",
    "critical = df['trial_type'].tolist()\n",
    "my_dict ={z[0]:list(z[1:]) for z in zip(image_names,load,question,trial_type,critical)}\n",
    "\n",
    "names_low = []\n",
    "names_high = []\n",
    "for each in my_dict:\n",
    "    if 'low' in my_dict[each]:\n",
    "        #print each, my_dict[each]\n",
    "        names_low.append(each)\n",
    "    elif 'high' in my_dict[each]:\n",
    "        #print each, my_dict[each]\n",
    "        names_high.append(each)\n",
    "#print len(names_low), len(names_high)\n",
    "\n",
    "random.shuffle(names_low)\n",
    "random.shuffle(names_high)\n",
    "high_block_1 = names_high[0:120]\n",
    "high_block_2 = names_high[120:]\n",
    "low_block_1 = names_low[0:120]\n",
    "low_block_2 = names_low[120:]\n",
    "print len(high_block_1), len(high_block_2)\n",
    "print len(low_block_1), len(low_block_2)\n",
    "\n",
    "print names_low[0:9]\n",
    "print names_high[0:9]"
   ]
  }
 ],
 "metadata": {
  "anaconda-cloud": {},
  "kernelspec": {
   "display_name": "Python [default]",
   "language": "python",
   "name": "python2"
  },
  "language_info": {
   "codemirror_mode": {
    "name": "ipython",
    "version": 2
   },
   "file_extension": ".py",
   "mimetype": "text/x-python",
   "name": "python",
   "nbconvert_exporter": "python",
   "pygments_lexer": "ipython2",
   "version": "2.7.12"
  }
 },
 "nbformat": 4,
 "nbformat_minor": 1
}
